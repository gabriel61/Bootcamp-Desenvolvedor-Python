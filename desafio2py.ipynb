{
  "nbformat": 4,
  "nbformat_minor": 0,
  "metadata": {
    "colab": {
      "provenance": []
    },
    "kernelspec": {
      "name": "python3",
      "display_name": "Python 3"
    },
    "language_info": {
      "name": "python"
    }
  },
  "cells": [
    {
      "cell_type": "markdown",
      "source": [
        "#**XPE Bootcamp: Desenvolvedor(a) Python**\n",
        "\n",
        "##Módulo 2: Python para a Análise de Dados\n",
        "\n",
        "###Desafio Prático:\n",
        "**Realizar a análise de uma base de dados real em Python.**\n",
        "\n",
        "Enunciado\n",
        "\n",
        "O uso de bicicletas como meio de transporte ganhou muita força nos últimos anos, seja por questões ambientais, de saúde ou até mesmo de infraestrutura de trânsito. Para incentivar seu uso, cidades em todo o mundo têm implementado programas de compartilhamento de bicicleta. Nesses\n",
        "sistemas, elas são retiradas e devolvidas em quiosques automatizados que ficam espalhados por diversos pontos da cidade.\n",
        "\n",
        "As plataformas de compartilhamento de bicicletas costumam coletar diversos tipos de dados, como a duração da viagem, as localizações iniciais e finais dos percursos, entre outros. Esses dados, em conjunto com informações sobre o clima, o trânsito e o relevo, por exemplo, possibilitam uma análise mais robusta do compartilhamento de bicicletas.\n",
        "\n",
        "**Dataset:** https://pycourse.s3.amazonaws.com/bike-sharing.csv"
      ],
      "metadata": {
        "id": "fClrQYW8xvxH"
      }
    },
    {
      "cell_type": "code",
      "execution_count": 1,
      "metadata": {
        "id": "17mhVxQ6oIsj"
      },
      "outputs": [],
      "source": [
        "import numpy as np\n",
        "import pandas as pd"
      ]
    },
    {
      "cell_type": "code",
      "source": [
        "df = pd.read_csv(\"https://pycourse.s3.amazonaws.com/bike-sharing.csv\")"
      ],
      "metadata": {
        "id": "z6y6LR1LoJu6"
      },
      "execution_count": 2,
      "outputs": []
    },
    {
      "cell_type": "code",
      "source": [
        "df.head()"
      ],
      "metadata": {
        "colab": {
          "base_uri": "https://localhost:8080/",
          "height": 206
        },
        "id": "_lWqkX3kodii",
        "outputId": "b449fa6f-e972-4624-faee-ef6d89650f3d"
      },
      "execution_count": 14,
      "outputs": [
        {
          "output_type": "execute_result",
          "data": {
            "text/plain": [
              "     datetime  rec_id  season  year  month  hour  is_holiday  weekday  \\\n",
              "0  2011-01-01       1       1     0      1     0           0        6   \n",
              "1  2011-01-01       2       1     0      1     1           0        6   \n",
              "2  2011-01-01       3       1     0      1     2           0        6   \n",
              "3  2011-01-01       4       1     0      1     3           0        6   \n",
              "4  2011-01-01       5       1     0      1     4           0        6   \n",
              "\n",
              "   is_workingday  weather_condition  temp   atemp  humidity  windspeed  \\\n",
              "0              0                  1  0.24  0.2879      0.81        0.0   \n",
              "1              0                  1  0.22  0.2727      0.80        0.0   \n",
              "2              0                  1  0.22  0.2727      0.80        0.0   \n",
              "3              0                  1  0.24  0.2879      0.75        0.0   \n",
              "4              0                  1  0.24  0.2879      0.75        0.0   \n",
              "\n",
              "   casual  registered  total_count  \n",
              "0       3          13           16  \n",
              "1       8          32           40  \n",
              "2       5          27           32  \n",
              "3       3          10           13  \n",
              "4       0           1            1  "
            ],
            "text/html": [
              "\n",
              "  <div id=\"df-afd02493-fe64-4d5c-84ab-15ef8377a985\">\n",
              "    <div class=\"colab-df-container\">\n",
              "      <div>\n",
              "<style scoped>\n",
              "    .dataframe tbody tr th:only-of-type {\n",
              "        vertical-align: middle;\n",
              "    }\n",
              "\n",
              "    .dataframe tbody tr th {\n",
              "        vertical-align: top;\n",
              "    }\n",
              "\n",
              "    .dataframe thead th {\n",
              "        text-align: right;\n",
              "    }\n",
              "</style>\n",
              "<table border=\"1\" class=\"dataframe\">\n",
              "  <thead>\n",
              "    <tr style=\"text-align: right;\">\n",
              "      <th></th>\n",
              "      <th>datetime</th>\n",
              "      <th>rec_id</th>\n",
              "      <th>season</th>\n",
              "      <th>year</th>\n",
              "      <th>month</th>\n",
              "      <th>hour</th>\n",
              "      <th>is_holiday</th>\n",
              "      <th>weekday</th>\n",
              "      <th>is_workingday</th>\n",
              "      <th>weather_condition</th>\n",
              "      <th>temp</th>\n",
              "      <th>atemp</th>\n",
              "      <th>humidity</th>\n",
              "      <th>windspeed</th>\n",
              "      <th>casual</th>\n",
              "      <th>registered</th>\n",
              "      <th>total_count</th>\n",
              "    </tr>\n",
              "  </thead>\n",
              "  <tbody>\n",
              "    <tr>\n",
              "      <th>0</th>\n",
              "      <td>2011-01-01</td>\n",
              "      <td>1</td>\n",
              "      <td>1</td>\n",
              "      <td>0</td>\n",
              "      <td>1</td>\n",
              "      <td>0</td>\n",
              "      <td>0</td>\n",
              "      <td>6</td>\n",
              "      <td>0</td>\n",
              "      <td>1</td>\n",
              "      <td>0.24</td>\n",
              "      <td>0.2879</td>\n",
              "      <td>0.81</td>\n",
              "      <td>0.0</td>\n",
              "      <td>3</td>\n",
              "      <td>13</td>\n",
              "      <td>16</td>\n",
              "    </tr>\n",
              "    <tr>\n",
              "      <th>1</th>\n",
              "      <td>2011-01-01</td>\n",
              "      <td>2</td>\n",
              "      <td>1</td>\n",
              "      <td>0</td>\n",
              "      <td>1</td>\n",
              "      <td>1</td>\n",
              "      <td>0</td>\n",
              "      <td>6</td>\n",
              "      <td>0</td>\n",
              "      <td>1</td>\n",
              "      <td>0.22</td>\n",
              "      <td>0.2727</td>\n",
              "      <td>0.80</td>\n",
              "      <td>0.0</td>\n",
              "      <td>8</td>\n",
              "      <td>32</td>\n",
              "      <td>40</td>\n",
              "    </tr>\n",
              "    <tr>\n",
              "      <th>2</th>\n",
              "      <td>2011-01-01</td>\n",
              "      <td>3</td>\n",
              "      <td>1</td>\n",
              "      <td>0</td>\n",
              "      <td>1</td>\n",
              "      <td>2</td>\n",
              "      <td>0</td>\n",
              "      <td>6</td>\n",
              "      <td>0</td>\n",
              "      <td>1</td>\n",
              "      <td>0.22</td>\n",
              "      <td>0.2727</td>\n",
              "      <td>0.80</td>\n",
              "      <td>0.0</td>\n",
              "      <td>5</td>\n",
              "      <td>27</td>\n",
              "      <td>32</td>\n",
              "    </tr>\n",
              "    <tr>\n",
              "      <th>3</th>\n",
              "      <td>2011-01-01</td>\n",
              "      <td>4</td>\n",
              "      <td>1</td>\n",
              "      <td>0</td>\n",
              "      <td>1</td>\n",
              "      <td>3</td>\n",
              "      <td>0</td>\n",
              "      <td>6</td>\n",
              "      <td>0</td>\n",
              "      <td>1</td>\n",
              "      <td>0.24</td>\n",
              "      <td>0.2879</td>\n",
              "      <td>0.75</td>\n",
              "      <td>0.0</td>\n",
              "      <td>3</td>\n",
              "      <td>10</td>\n",
              "      <td>13</td>\n",
              "    </tr>\n",
              "    <tr>\n",
              "      <th>4</th>\n",
              "      <td>2011-01-01</td>\n",
              "      <td>5</td>\n",
              "      <td>1</td>\n",
              "      <td>0</td>\n",
              "      <td>1</td>\n",
              "      <td>4</td>\n",
              "      <td>0</td>\n",
              "      <td>6</td>\n",
              "      <td>0</td>\n",
              "      <td>1</td>\n",
              "      <td>0.24</td>\n",
              "      <td>0.2879</td>\n",
              "      <td>0.75</td>\n",
              "      <td>0.0</td>\n",
              "      <td>0</td>\n",
              "      <td>1</td>\n",
              "      <td>1</td>\n",
              "    </tr>\n",
              "  </tbody>\n",
              "</table>\n",
              "</div>\n",
              "      <button class=\"colab-df-convert\" onclick=\"convertToInteractive('df-afd02493-fe64-4d5c-84ab-15ef8377a985')\"\n",
              "              title=\"Convert this dataframe to an interactive table.\"\n",
              "              style=\"display:none;\">\n",
              "        \n",
              "  <svg xmlns=\"http://www.w3.org/2000/svg\" height=\"24px\"viewBox=\"0 0 24 24\"\n",
              "       width=\"24px\">\n",
              "    <path d=\"M0 0h24v24H0V0z\" fill=\"none\"/>\n",
              "    <path d=\"M18.56 5.44l.94 2.06.94-2.06 2.06-.94-2.06-.94-.94-2.06-.94 2.06-2.06.94zm-11 1L8.5 8.5l.94-2.06 2.06-.94-2.06-.94L8.5 2.5l-.94 2.06-2.06.94zm10 10l.94 2.06.94-2.06 2.06-.94-2.06-.94-.94-2.06-.94 2.06-2.06.94z\"/><path d=\"M17.41 7.96l-1.37-1.37c-.4-.4-.92-.59-1.43-.59-.52 0-1.04.2-1.43.59L10.3 9.45l-7.72 7.72c-.78.78-.78 2.05 0 2.83L4 21.41c.39.39.9.59 1.41.59.51 0 1.02-.2 1.41-.59l7.78-7.78 2.81-2.81c.8-.78.8-2.07 0-2.86zM5.41 20L4 18.59l7.72-7.72 1.47 1.35L5.41 20z\"/>\n",
              "  </svg>\n",
              "      </button>\n",
              "      \n",
              "  <style>\n",
              "    .colab-df-container {\n",
              "      display:flex;\n",
              "      flex-wrap:wrap;\n",
              "      gap: 12px;\n",
              "    }\n",
              "\n",
              "    .colab-df-convert {\n",
              "      background-color: #E8F0FE;\n",
              "      border: none;\n",
              "      border-radius: 50%;\n",
              "      cursor: pointer;\n",
              "      display: none;\n",
              "      fill: #1967D2;\n",
              "      height: 32px;\n",
              "      padding: 0 0 0 0;\n",
              "      width: 32px;\n",
              "    }\n",
              "\n",
              "    .colab-df-convert:hover {\n",
              "      background-color: #E2EBFA;\n",
              "      box-shadow: 0px 1px 2px rgba(60, 64, 67, 0.3), 0px 1px 3px 1px rgba(60, 64, 67, 0.15);\n",
              "      fill: #174EA6;\n",
              "    }\n",
              "\n",
              "    [theme=dark] .colab-df-convert {\n",
              "      background-color: #3B4455;\n",
              "      fill: #D2E3FC;\n",
              "    }\n",
              "\n",
              "    [theme=dark] .colab-df-convert:hover {\n",
              "      background-color: #434B5C;\n",
              "      box-shadow: 0px 1px 3px 1px rgba(0, 0, 0, 0.15);\n",
              "      filter: drop-shadow(0px 1px 2px rgba(0, 0, 0, 0.3));\n",
              "      fill: #FFFFFF;\n",
              "    }\n",
              "  </style>\n",
              "\n",
              "      <script>\n",
              "        const buttonEl =\n",
              "          document.querySelector('#df-afd02493-fe64-4d5c-84ab-15ef8377a985 button.colab-df-convert');\n",
              "        buttonEl.style.display =\n",
              "          google.colab.kernel.accessAllowed ? 'block' : 'none';\n",
              "\n",
              "        async function convertToInteractive(key) {\n",
              "          const element = document.querySelector('#df-afd02493-fe64-4d5c-84ab-15ef8377a985');\n",
              "          const dataTable =\n",
              "            await google.colab.kernel.invokeFunction('convertToInteractive',\n",
              "                                                     [key], {});\n",
              "          if (!dataTable) return;\n",
              "\n",
              "          const docLinkHtml = 'Like what you see? Visit the ' +\n",
              "            '<a target=\"_blank\" href=https://colab.research.google.com/notebooks/data_table.ipynb>data table notebook</a>'\n",
              "            + ' to learn more about interactive tables.';\n",
              "          element.innerHTML = '';\n",
              "          dataTable['output_type'] = 'display_data';\n",
              "          await google.colab.output.renderOutput(dataTable, element);\n",
              "          const docLink = document.createElement('div');\n",
              "          docLink.innerHTML = docLinkHtml;\n",
              "          element.appendChild(docLink);\n",
              "        }\n",
              "      </script>\n",
              "    </div>\n",
              "  </div>\n",
              "  "
            ]
          },
          "metadata": {},
          "execution_count": 14
        }
      ]
    },
    {
      "cell_type": "markdown",
      "source": [
        "Qual o tamanho desse dataset (número de linhas, número de colunas)?"
      ],
      "metadata": {
        "id": "fs6Sq_dDzR8m"
      }
    },
    {
      "cell_type": "code",
      "source": [
        "print(\"Tamanho do dataset (número de linhas, número de colunas):\", df.shape)"
      ],
      "metadata": {
        "colab": {
          "base_uri": "https://localhost:8080/"
        },
        "id": "6Vr2LEwuoRFK",
        "outputId": "bc2ae9ab-a410-4da9-b39c-28d9bd7d4552"
      },
      "execution_count": 41,
      "outputs": [
        {
          "output_type": "stream",
          "name": "stdout",
          "text": [
            "Tamanho do dataset (número de linhas, número de colunas): (17379, 17)\n"
          ]
        }
      ]
    },
    {
      "cell_type": "markdown",
      "source": [
        "Qual a média da coluna windspeed?"
      ],
      "metadata": {
        "id": "nLIt7XtkzYfp"
      }
    },
    {
      "cell_type": "code",
      "source": [
        "df['windspeed'].mean()"
      ],
      "metadata": {
        "colab": {
          "base_uri": "https://localhost:8080/"
        },
        "id": "UFBdqVc1okCG",
        "outputId": "7b247889-e735-40c0-ec81-5c7a6f2e34d3"
      },
      "execution_count": 9,
      "outputs": [
        {
          "output_type": "execute_result",
          "data": {
            "text/plain": [
              "0.19009760630646177"
            ]
          },
          "metadata": {},
          "execution_count": 9
        }
      ]
    },
    {
      "cell_type": "markdown",
      "source": [
        "Qual a média da coluna temp?"
      ],
      "metadata": {
        "id": "E_XGVejYz6pR"
      }
    },
    {
      "cell_type": "code",
      "source": [
        "df['temp'].mean()"
      ],
      "metadata": {
        "colab": {
          "base_uri": "https://localhost:8080/"
        },
        "id": "MT4Lxh5Mo_M2",
        "outputId": "a1a02efb-68f4-4f58-fb44-ab988c6284e6"
      },
      "execution_count": 10,
      "outputs": [
        {
          "output_type": "execute_result",
          "data": {
            "text/plain": [
              "0.4969871684216583"
            ]
          },
          "metadata": {},
          "execution_count": 10
        }
      ]
    },
    {
      "cell_type": "markdown",
      "source": [
        "Quantos registros de locações existem para o ano de 2011 (número de linhas, número de colunas)?\n",
        "\n",
        "Quantos registros de locações existem para o ano de 2012 (número de linhas, número de colunas)?"
      ],
      "metadata": {
        "id": "l6zx5j_nz-BR"
      }
    },
    {
      "cell_type": "code",
      "source": [
        "# Filtrar o DataFrame para o ano de 2011 e 2012\n",
        "df_2011 = df[df['year'] == 0]\n",
        "df_2012 = df[df['year'] == 1]\n",
        "\n",
        "print(f'O número de linhas e colunas para o ano de 2011 é:', df_2011.shape)\n",
        "print(f'O número de linhas e colunas para o ano de 2012 é:', df_2012.shape)\n"
      ],
      "metadata": {
        "colab": {
          "base_uri": "https://localhost:8080/"
        },
        "id": "ygbsVcMXpQkW",
        "outputId": "b065f769-ae91-4fe5-bf8b-52bda0d7a5b3"
      },
      "execution_count": 46,
      "outputs": [
        {
          "output_type": "stream",
          "name": "stdout",
          "text": [
            "O número de linhas e colunas para o ano de 2011 é: (8645, 17)\n",
            "O número de linhas e colunas para o ano de 2012 é: (8734, 17)\n"
          ]
        }
      ]
    },
    {
      "cell_type": "markdown",
      "source": [
        "Quantas locações de bicicletas foram efetuadas em 2011?"
      ],
      "metadata": {
        "id": "mGkkOu2f00pr"
      }
    },
    {
      "cell_type": "code",
      "source": [
        "df_2011_reg = df_2011['total_count'].sum()\n",
        "\n",
        "print(f'O número de locações de bicicletas efetuadas em 2011 foi:', df_2011_reg)"
      ],
      "metadata": {
        "colab": {
          "base_uri": "https://localhost:8080/"
        },
        "id": "PHsaTe1kppFA",
        "outputId": "8ac32e3c-31d0-4c43-e0d9-a36ff558b613"
      },
      "execution_count": 47,
      "outputs": [
        {
          "output_type": "stream",
          "name": "stdout",
          "text": [
            "O número de locações de bicicletas efetuadas em 2011 foi: 1243103\n"
          ]
        }
      ]
    },
    {
      "cell_type": "markdown",
      "source": [
        "Quantas locações de bicicletas foram efetuadas em 2012?"
      ],
      "metadata": {
        "id": "TPxogYSt09Jt"
      }
    },
    {
      "cell_type": "code",
      "source": [
        "df_2012_reg = df_2012['total_count'].sum()\n",
        "\n",
        "print(f'O número de locações de bicicletas efetuadas em 2012 foi:', df_2012_reg)"
      ],
      "metadata": {
        "colab": {
          "base_uri": "https://localhost:8080/"
        },
        "id": "vXKYXFEnqR-e",
        "outputId": "58ff0507-0916-4af2-bde7-b3f1d818748d"
      },
      "execution_count": 48,
      "outputs": [
        {
          "output_type": "stream",
          "name": "stdout",
          "text": [
            "O número de locações de bicicletas efetuadas em 2012 foi: 2049576\n"
          ]
        }
      ]
    },
    {
      "cell_type": "markdown",
      "source": [
        "Qual estação do ano contém a maior média de locações de bicicletas?\n",
        "\n",
        "Qual estação do ano contém a menor média de locações de bicicletas?"
      ],
      "metadata": {
        "id": "8INvdYtY1ZdZ"
      }
    },
    {
      "cell_type": "code",
      "source": [
        "# Agrupando os dados pela coluna \"season\" e calculando a média das locações de bicicletas\n",
        "mean_rentals_by_season = df.groupby('season')['total_count'].mean()\n",
        "print(mean_rentals_by_season)\n",
        "\n",
        "# Encontrando a estação com a maior média de locações de bicicletas\n",
        "season_with_highest_mean = mean_rentals_by_season.idxmax()\n",
        "season_with_smaller_mean = mean_rentals_by_season.idxmin()\n",
        "\n",
        "print(f\"A estação com a maior média de locações de bicicletas é: {season_with_highest_mean}\")\n",
        "print(f\"A estação com a menor média de locações de bicicletas é: {season_with_smaller_mean}\")\n"
      ],
      "metadata": {
        "colab": {
          "base_uri": "https://localhost:8080/"
        },
        "id": "DH1czTPotWT3",
        "outputId": "2bba1af6-b389-48cf-fa04-67fc3d84393a"
      },
      "execution_count": 32,
      "outputs": [
        {
          "output_type": "stream",
          "name": "stdout",
          "text": [
            "season\n",
            "1    111.114569\n",
            "2    208.344069\n",
            "3    236.016237\n",
            "4    198.868856\n",
            "Name: total_count, dtype: float64\n",
            "A estação com a maior média de locações de bicicletas é: 3\n",
            "A estação com a menor média de locações de bicicletas é: 1\n"
          ]
        }
      ]
    },
    {
      "cell_type": "markdown",
      "source": [
        "Qual horário do dia contém a maior média de locações de bicicletas?\n",
        "\n",
        "Qual horário do dia contém a menor média de locações de bicicletas?"
      ],
      "metadata": {
        "id": "BYyooXws1lPq"
      }
    },
    {
      "cell_type": "code",
      "source": [
        "# Agrupar o DataFrame por hora do dia e calcular a média da coluna count\n",
        "hourly_rentals = df.groupby('hour')['total_count'].mean()\n",
        "print(hourly_rentals)\n",
        "\n",
        "# Encontrar a hora com a maior média de locações de bicicletas\n",
        "hour_with_max_rentals = hourly_rentals.idxmax()\n",
        "hour_with_min_rentals = hourly_rentals.idxmin()\n",
        "\n",
        "# Imprimir o resultado\n",
        "print(f'O horário do dia com a maior média de locações de bicicletas é: {hour_with_max_rentals}h')\n",
        "print(f'O horário do dia com a menor média de locações de bicicletas é: {hour_with_min_rentals}h')\n"
      ],
      "metadata": {
        "colab": {
          "base_uri": "https://localhost:8080/"
        },
        "id": "Qu8-5PH6uCdZ",
        "outputId": "a3e165b6-a63d-4110-8332-36c468dff304"
      },
      "execution_count": 33,
      "outputs": [
        {
          "output_type": "stream",
          "name": "stdout",
          "text": [
            "hour\n",
            "0      53.898072\n",
            "1      33.375691\n",
            "2      22.869930\n",
            "3      11.727403\n",
            "4       6.352941\n",
            "5      19.889819\n",
            "6      76.044138\n",
            "7     212.064649\n",
            "8     359.011004\n",
            "9     219.309491\n",
            "10    173.668501\n",
            "11    208.143054\n",
            "12    253.315934\n",
            "13    253.661180\n",
            "14    240.949246\n",
            "15    251.233196\n",
            "16    311.983562\n",
            "17    461.452055\n",
            "18    425.510989\n",
            "19    311.523352\n",
            "20    226.030220\n",
            "21    172.314560\n",
            "22    131.335165\n",
            "23     87.831044\n",
            "Name: total_count, dtype: float64\n",
            "O horário do dia com a maior média de locações de bicicletas é: 17h\n",
            "O horário do dia com a menor média de locações de bicicletas é: 4h\n"
          ]
        }
      ]
    },
    {
      "cell_type": "markdown",
      "source": [
        "Que dia da semana contém a maior média de locações de bicicletas?\n",
        "\n",
        "Que dia da semana contém a menor média de locações de bicicletas?"
      ],
      "metadata": {
        "id": "h97CBmMz1wwL"
      }
    },
    {
      "cell_type": "code",
      "source": [
        "# Agrupar os dados por dia da semana e calcular a média de locações\n",
        "day_rentals = df.groupby('weekday')['total_count'].mean()\n",
        "print(day_rentals)\n",
        "\n",
        "# Encontrar o dia com a maior média de locações de bicicletas\n",
        "max_day = day_rentals.idxmax()\n",
        "min_day = day_rentals.idxmin()\n",
        "\n",
        "# Imprimir o resultado\n",
        "print(f'O dia da semana com a maior média de locações é o {max_day}')\n",
        "print(f'O dia da semana com a menor média de locações é o {min_day}')\n"
      ],
      "metadata": {
        "colab": {
          "base_uri": "https://localhost:8080/"
        },
        "id": "zwv51M7GvZ9_",
        "outputId": "cee26d64-575d-4c8a-ee52-f5bf77dfc572"
      },
      "execution_count": 37,
      "outputs": [
        {
          "output_type": "stream",
          "name": "stdout",
          "text": [
            "weekday\n",
            "0    177.468825\n",
            "1    183.744655\n",
            "2    191.238891\n",
            "3    191.130505\n",
            "4    196.436665\n",
            "5    196.135907\n",
            "6    190.209793\n",
            "Name: total_count, dtype: float64\n",
            "O dia da semana com a maior média de locações é o 4\n",
            "O dia da semana com a menor média de locações é o 0\n"
          ]
        }
      ]
    },
    {
      "cell_type": "markdown",
      "source": [
        "Às quartas-feiras (weekday = 3), qual o horário do dia contém a maior média de locações de bicicletas?"
      ],
      "metadata": {
        "id": "5kvMblSf10k5"
      }
    },
    {
      "cell_type": "code",
      "source": [
        "# Filtrar o DataFrame para quartas-feiras\n",
        "df_quarta = df[df['weekday'] == 3]\n",
        "\n",
        "# Agrupar os dados pelo horário do dia e calcular a média das locações\n",
        "media_por_hora = df_quarta.groupby('hour')['total_count'].mean()\n",
        "print(media_por_hora)\n",
        "\n",
        "# Encontrar a hora com a maior média de locações\n",
        "hora_maxima = media_por_hora.idxmax()\n",
        "\n",
        "print(f\"O horário do dia com a maior média de locações de bicicletas às quartas-feiras é {hora_maxima}h.\")\n"
      ],
      "metadata": {
        "colab": {
          "base_uri": "https://localhost:8080/"
        },
        "id": "UBygF_qWv4NA",
        "outputId": "ee4cef3b-e452-4791-bf10-deb04150e45a"
      },
      "execution_count": 38,
      "outputs": [
        {
          "output_type": "stream",
          "name": "stdout",
          "text": [
            "hour\n",
            "0      34.557692\n",
            "1      15.336538\n",
            "2       7.813725\n",
            "3       4.888889\n",
            "4       4.968750\n",
            "5      25.750000\n",
            "6     107.807692\n",
            "7     303.980769\n",
            "8     488.326923\n",
            "9     238.528846\n",
            "10    131.894231\n",
            "11    152.201923\n",
            "12    193.903846\n",
            "13    185.826923\n",
            "14    170.548077\n",
            "15    181.288462\n",
            "16    272.961538\n",
            "17    513.144231\n",
            "18    494.029126\n",
            "19    357.504854\n",
            "20    256.660194\n",
            "21    194.669903\n",
            "22    143.689320\n",
            "23     83.737864\n",
            "Name: total_count, dtype: float64\n",
            "O horário do dia com a maior média de locações de bicicletas às quartas-feiras é 17h.\n"
          ]
        }
      ]
    },
    {
      "cell_type": "markdown",
      "source": [
        "Aos sábados (weekday = 6), qual o horário do dia contém a maior média de locações de bicicletas?"
      ],
      "metadata": {
        "id": "uQTTJHHB12iD"
      }
    },
    {
      "cell_type": "code",
      "source": [
        "# Filtrar o DataFrame para sábados\n",
        "df_sabado = df[df['weekday'] == 6]\n",
        "\n",
        "# Agrupar os dados pelo horário do dia e calcular a média das locações\n",
        "media_por_hora = df_sabado.groupby('hour')['total_count'].mean()\n",
        "print(media_por_hora)\n",
        "\n",
        "# Encontrar a hora com a maior média de locações\n",
        "hora_maxima = media_por_hora.idxmax()\n",
        "\n",
        "print(f\"O horário do dia com a maior média de locações de bicicletas aos sábados é {hora_maxima}h.\")"
      ],
      "metadata": {
        "colab": {
          "base_uri": "https://localhost:8080/"
        },
        "id": "C4RhjAj_xFS7",
        "outputId": "98dc3216-beb1-4d2f-e066-709d4060ae12"
      },
      "execution_count": 39,
      "outputs": [
        {
          "output_type": "stream",
          "name": "stdout",
          "text": [
            "hour\n",
            "0      94.304762\n",
            "1      67.780952\n",
            "2      50.495238\n",
            "3      22.885714\n",
            "4       7.657143\n",
            "5       8.291262\n",
            "6      21.000000\n",
            "7      45.961905\n",
            "8     114.476190\n",
            "9     186.790476\n",
            "10    263.723810\n",
            "11    328.609524\n",
            "12    375.380952\n",
            "13    385.371429\n",
            "14    381.333333\n",
            "15    382.428571\n",
            "16    366.142857\n",
            "17    334.409524\n",
            "18    292.048077\n",
            "19    239.932692\n",
            "20    180.865385\n",
            "21    156.000000\n",
            "22    139.663462\n",
            "23    115.855769\n",
            "Name: total_count, dtype: float64\n",
            "O horário do dia com a maior média de locações de bicicletas aos sábados é 13h.\n"
          ]
        }
      ]
    }
  ]
}